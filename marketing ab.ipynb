{
 "cells": [
  {
   "cell_type": "markdown",
   "id": "45870ee0-eb38-451b-8869-a6b18800ffa1",
   "metadata": {
    "jp-MarkdownHeadingCollapsed": true
   },
   "source": [
    "# Importing libraries"
   ]
  },
  {
   "cell_type": "code",
   "execution_count": 5,
   "id": "2198b2cd-8fd3-421a-9257-214581d08a1e",
   "metadata": {},
   "outputs": [],
   "source": [
    "import pandas as pd\n",
    "import matplotlib.pyplot as plt\n",
    "import numpy as np\n",
    "from scipy import stats\n",
    "import seaborn as sns\n",
    "import warnings \n",
    "\n",
    "warnings.filterwarnings(\"ignore\")"
   ]
  },
  {
   "cell_type": "code",
   "execution_count": 6,
   "id": "2de1af2f-55ba-47d5-86c0-1c541ac28da3",
   "metadata": {},
   "outputs": [],
   "source": [
    "df = pd.read_csv(\"C:\\projects\\marketing ab\\marketing_ab.csv\")"
   ]
  },
  {
   "cell_type": "code",
   "execution_count": 7,
   "id": "32166e87-d714-4897-abe7-f26ba2267415",
   "metadata": {},
   "outputs": [
    {
     "data": {
      "text/html": [
       "<div>\n",
       "<style scoped>\n",
       "    .dataframe tbody tr th:only-of-type {\n",
       "        vertical-align: middle;\n",
       "    }\n",
       "\n",
       "    .dataframe tbody tr th {\n",
       "        vertical-align: top;\n",
       "    }\n",
       "\n",
       "    .dataframe thead th {\n",
       "        text-align: right;\n",
       "    }\n",
       "</style>\n",
       "<table border=\"1\" class=\"dataframe\">\n",
       "  <thead>\n",
       "    <tr style=\"text-align: right;\">\n",
       "      <th></th>\n",
       "      <th>Unnamed: 0</th>\n",
       "      <th>user id</th>\n",
       "      <th>test group</th>\n",
       "      <th>converted</th>\n",
       "      <th>total ads</th>\n",
       "      <th>most ads day</th>\n",
       "      <th>most ads hour</th>\n",
       "    </tr>\n",
       "  </thead>\n",
       "  <tbody>\n",
       "    <tr>\n",
       "      <th>0</th>\n",
       "      <td>0</td>\n",
       "      <td>1069124</td>\n",
       "      <td>ad</td>\n",
       "      <td>False</td>\n",
       "      <td>130</td>\n",
       "      <td>Monday</td>\n",
       "      <td>20</td>\n",
       "    </tr>\n",
       "    <tr>\n",
       "      <th>1</th>\n",
       "      <td>1</td>\n",
       "      <td>1119715</td>\n",
       "      <td>ad</td>\n",
       "      <td>False</td>\n",
       "      <td>93</td>\n",
       "      <td>Tuesday</td>\n",
       "      <td>22</td>\n",
       "    </tr>\n",
       "    <tr>\n",
       "      <th>2</th>\n",
       "      <td>2</td>\n",
       "      <td>1144181</td>\n",
       "      <td>ad</td>\n",
       "      <td>False</td>\n",
       "      <td>21</td>\n",
       "      <td>Tuesday</td>\n",
       "      <td>18</td>\n",
       "    </tr>\n",
       "    <tr>\n",
       "      <th>3</th>\n",
       "      <td>3</td>\n",
       "      <td>1435133</td>\n",
       "      <td>ad</td>\n",
       "      <td>False</td>\n",
       "      <td>355</td>\n",
       "      <td>Tuesday</td>\n",
       "      <td>10</td>\n",
       "    </tr>\n",
       "    <tr>\n",
       "      <th>4</th>\n",
       "      <td>4</td>\n",
       "      <td>1015700</td>\n",
       "      <td>ad</td>\n",
       "      <td>False</td>\n",
       "      <td>276</td>\n",
       "      <td>Friday</td>\n",
       "      <td>14</td>\n",
       "    </tr>\n",
       "  </tbody>\n",
       "</table>\n",
       "</div>"
      ],
      "text/plain": [
       "   Unnamed: 0  user id test group  converted  total ads most ads day  \\\n",
       "0           0  1069124         ad      False        130       Monday   \n",
       "1           1  1119715         ad      False         93      Tuesday   \n",
       "2           2  1144181         ad      False         21      Tuesday   \n",
       "3           3  1435133         ad      False        355      Tuesday   \n",
       "4           4  1015700         ad      False        276       Friday   \n",
       "\n",
       "   most ads hour  \n",
       "0             20  \n",
       "1             22  \n",
       "2             18  \n",
       "3             10  \n",
       "4             14  "
      ]
     },
     "execution_count": 7,
     "metadata": {},
     "output_type": "execute_result"
    }
   ],
   "source": [
    "df.head()"
   ]
  },
  {
   "cell_type": "code",
   "execution_count": 8,
   "id": "5577b19e-ca51-4bcf-b58c-67614882b0cf",
   "metadata": {},
   "outputs": [
    {
     "data": {
      "text/plain": [
       "(588101, 7)"
      ]
     },
     "execution_count": 8,
     "metadata": {},
     "output_type": "execute_result"
    }
   ],
   "source": [
    "df.shape"
   ]
  },
  {
   "cell_type": "code",
   "execution_count": 9,
   "id": "ec0c0c78-d7e8-4d8b-806d-b8b340d9b0d5",
   "metadata": {},
   "outputs": [],
   "source": [
    "df.drop(columns= [\"Unnamed: 0\", \"user id\"], inplace=True)"
   ]
  },
  {
   "cell_type": "code",
   "execution_count": 10,
   "id": "32eee2d5-1ea4-4992-9583-06be730d7831",
   "metadata": {},
   "outputs": [
    {
     "data": {
      "text/html": [
       "<div>\n",
       "<style scoped>\n",
       "    .dataframe tbody tr th:only-of-type {\n",
       "        vertical-align: middle;\n",
       "    }\n",
       "\n",
       "    .dataframe tbody tr th {\n",
       "        vertical-align: top;\n",
       "    }\n",
       "\n",
       "    .dataframe thead th {\n",
       "        text-align: right;\n",
       "    }\n",
       "</style>\n",
       "<table border=\"1\" class=\"dataframe\">\n",
       "  <thead>\n",
       "    <tr style=\"text-align: right;\">\n",
       "      <th></th>\n",
       "      <th>test group</th>\n",
       "      <th>converted</th>\n",
       "      <th>total ads</th>\n",
       "      <th>most ads day</th>\n",
       "      <th>most ads hour</th>\n",
       "    </tr>\n",
       "  </thead>\n",
       "  <tbody>\n",
       "    <tr>\n",
       "      <th>0</th>\n",
       "      <td>ad</td>\n",
       "      <td>False</td>\n",
       "      <td>130</td>\n",
       "      <td>Monday</td>\n",
       "      <td>20</td>\n",
       "    </tr>\n",
       "    <tr>\n",
       "      <th>1</th>\n",
       "      <td>ad</td>\n",
       "      <td>False</td>\n",
       "      <td>93</td>\n",
       "      <td>Tuesday</td>\n",
       "      <td>22</td>\n",
       "    </tr>\n",
       "    <tr>\n",
       "      <th>2</th>\n",
       "      <td>ad</td>\n",
       "      <td>False</td>\n",
       "      <td>21</td>\n",
       "      <td>Tuesday</td>\n",
       "      <td>18</td>\n",
       "    </tr>\n",
       "    <tr>\n",
       "      <th>3</th>\n",
       "      <td>ad</td>\n",
       "      <td>False</td>\n",
       "      <td>355</td>\n",
       "      <td>Tuesday</td>\n",
       "      <td>10</td>\n",
       "    </tr>\n",
       "    <tr>\n",
       "      <th>4</th>\n",
       "      <td>ad</td>\n",
       "      <td>False</td>\n",
       "      <td>276</td>\n",
       "      <td>Friday</td>\n",
       "      <td>14</td>\n",
       "    </tr>\n",
       "  </tbody>\n",
       "</table>\n",
       "</div>"
      ],
      "text/plain": [
       "  test group  converted  total ads most ads day  most ads hour\n",
       "0         ad      False        130       Monday             20\n",
       "1         ad      False         93      Tuesday             22\n",
       "2         ad      False         21      Tuesday             18\n",
       "3         ad      False        355      Tuesday             10\n",
       "4         ad      False        276       Friday             14"
      ]
     },
     "execution_count": 10,
     "metadata": {},
     "output_type": "execute_result"
    }
   ],
   "source": [
    "df.head()"
   ]
  },
  {
   "cell_type": "code",
   "execution_count": 11,
   "id": "d028de09-47e2-4c39-8a5e-4e7e00223a4c",
   "metadata": {},
   "outputs": [
    {
     "data": {
      "text/plain": [
       "(588101, 5)"
      ]
     },
     "execution_count": 11,
     "metadata": {},
     "output_type": "execute_result"
    }
   ],
   "source": [
    "df.shape"
   ]
  },
  {
   "cell_type": "markdown",
   "id": "3f4ca172-a114-4662-9d45-80334b2de33c",
   "metadata": {
    "jp-MarkdownHeadingCollapsed": true
   },
   "source": [
    "# EDA"
   ]
  },
  {
   "cell_type": "code",
   "execution_count": 12,
   "id": "0b391c11-8278-46a4-95f7-9702c0faa458",
   "metadata": {},
   "outputs": [
    {
     "data": {
      "text/plain": [
       "test group       object\n",
       "converted          bool\n",
       "total ads         int64\n",
       "most ads day     object\n",
       "most ads hour     int64\n",
       "dtype: object"
      ]
     },
     "execution_count": 12,
     "metadata": {},
     "output_type": "execute_result"
    }
   ],
   "source": [
    "df.dtypes"
   ]
  },
  {
   "cell_type": "code",
   "execution_count": 13,
   "id": "3b41c202-84e9-4f2f-86e4-b2e3531953a8",
   "metadata": {},
   "outputs": [
    {
     "data": {
      "text/plain": [
       "test group       0\n",
       "converted        0\n",
       "total ads        0\n",
       "most ads day     0\n",
       "most ads hour    0\n",
       "dtype: int64"
      ]
     },
     "execution_count": 13,
     "metadata": {},
     "output_type": "execute_result"
    }
   ],
   "source": [
    "df.isna().sum()"
   ]
  },
  {
   "cell_type": "code",
   "execution_count": 14,
   "id": "67849cf6-1d44-481a-b737-3ecab11b7c89",
   "metadata": {},
   "outputs": [
    {
     "name": "stdout",
     "output_type": "stream",
     "text": [
      "<class 'pandas.core.frame.DataFrame'>\n",
      "RangeIndex: 588101 entries, 0 to 588100\n",
      "Data columns (total 5 columns):\n",
      " #   Column         Non-Null Count   Dtype \n",
      "---  ------         --------------   ----- \n",
      " 0   test group     588101 non-null  object\n",
      " 1   converted      588101 non-null  bool  \n",
      " 2   total ads      588101 non-null  int64 \n",
      " 3   most ads day   588101 non-null  object\n",
      " 4   most ads hour  588101 non-null  int64 \n",
      "dtypes: bool(1), int64(2), object(2)\n",
      "memory usage: 18.5+ MB\n"
     ]
    }
   ],
   "source": [
    "df.info()"
   ]
  },
  {
   "cell_type": "code",
   "execution_count": 15,
   "id": "2b3f980f-a3d8-4100-87d1-00bca604ac0b",
   "metadata": {},
   "outputs": [
    {
     "data": {
      "text/html": [
       "<div>\n",
       "<style scoped>\n",
       "    .dataframe tbody tr th:only-of-type {\n",
       "        vertical-align: middle;\n",
       "    }\n",
       "\n",
       "    .dataframe tbody tr th {\n",
       "        vertical-align: top;\n",
       "    }\n",
       "\n",
       "    .dataframe thead th {\n",
       "        text-align: right;\n",
       "    }\n",
       "</style>\n",
       "<table border=\"1\" class=\"dataframe\">\n",
       "  <thead>\n",
       "    <tr style=\"text-align: right;\">\n",
       "      <th></th>\n",
       "      <th>count</th>\n",
       "      <th>mean</th>\n",
       "      <th>std</th>\n",
       "      <th>min</th>\n",
       "      <th>25%</th>\n",
       "      <th>50%</th>\n",
       "      <th>75%</th>\n",
       "      <th>max</th>\n",
       "    </tr>\n",
       "  </thead>\n",
       "  <tbody>\n",
       "    <tr>\n",
       "      <th>total ads</th>\n",
       "      <td>588101.0</td>\n",
       "      <td>24.820876</td>\n",
       "      <td>43.715181</td>\n",
       "      <td>1.0</td>\n",
       "      <td>4.0</td>\n",
       "      <td>13.0</td>\n",
       "      <td>27.0</td>\n",
       "      <td>2065.0</td>\n",
       "    </tr>\n",
       "    <tr>\n",
       "      <th>most ads hour</th>\n",
       "      <td>588101.0</td>\n",
       "      <td>14.469061</td>\n",
       "      <td>4.834634</td>\n",
       "      <td>0.0</td>\n",
       "      <td>11.0</td>\n",
       "      <td>14.0</td>\n",
       "      <td>18.0</td>\n",
       "      <td>23.0</td>\n",
       "    </tr>\n",
       "  </tbody>\n",
       "</table>\n",
       "</div>"
      ],
      "text/plain": [
       "                  count       mean        std  min   25%   50%   75%     max\n",
       "total ads      588101.0  24.820876  43.715181  1.0   4.0  13.0  27.0  2065.0\n",
       "most ads hour  588101.0  14.469061   4.834634  0.0  11.0  14.0  18.0    23.0"
      ]
     },
     "execution_count": 15,
     "metadata": {},
     "output_type": "execute_result"
    }
   ],
   "source": [
    "df.describe().T"
   ]
  },
  {
   "cell_type": "code",
   "execution_count": 16,
   "id": "09a02e15-f806-4003-b640-bb8453f3ffdd",
   "metadata": {},
   "outputs": [
    {
     "name": "stdout",
     "output_type": "stream",
     "text": [
      "Test Group: ['ad' 'psa']\n",
      "Most Ads Day: ['Monday' 'Tuesday' 'Friday' 'Saturday' 'Wednesday' 'Sunday' 'Thursday']\n",
      "Converted: [False  True]\n"
     ]
    }
   ],
   "source": [
    "print(\"Test Group:\", df['test group'].unique())\n",
    "print(\"Most Ads Day:\", df['most ads day'].unique())\n",
    "print(\"Converted:\", df['converted'].unique())"
   ]
  },
  {
   "cell_type": "code",
   "execution_count": 17,
   "id": "3b1c8e95-6f24-4272-9256-702be86c6b3b",
   "metadata": {},
   "outputs": [
    {
     "data": {
      "text/plain": [
       "test group       object\n",
       "converted         int32\n",
       "total ads         int64\n",
       "most ads day     object\n",
       "most ads hour     int64\n",
       "dtype: object"
      ]
     },
     "execution_count": 17,
     "metadata": {},
     "output_type": "execute_result"
    }
   ],
   "source": [
    "df['converted'] = df['converted'].astype(int)\n",
    "df.dtypes"
   ]
  },
  {
   "cell_type": "markdown",
   "id": "aaeb29a0-e479-4637-a9af-f30938826e9a",
   "metadata": {},
   "source": [
    "# Testing groups"
   ]
  },
  {
   "cell_type": "code",
   "execution_count": 30,
   "id": "b69c4cbd-29bd-4159-993e-75d615c05589",
   "metadata": {},
   "outputs": [
    {
     "name": "stdout",
     "output_type": "stream",
     "text": [
      "Test Group Analysis: T-statistic: -7.37040597428566, P-value: 1.7033052627831264e-13\n"
     ]
    }
   ],
   "source": [
    "control_group = df[df['test group'] == 'ad']\n",
    "test_group = df[df['test group'] == 'psa']\n",
    "\n",
    "t_stat, p_val = stats.ttest_ind(test_group['converted'], control_group['converted'])\n",
    "print(f\"Test Group Analysis: T-statistic: {t_stat}, P-value: {p_val}\")"
   ]
  },
  {
   "cell_type": "code",
   "execution_count": 31,
   "id": "de17a4f5-e4cb-436a-b1ad-887ae4790475",
   "metadata": {},
   "outputs": [
    {
     "name": "stdout",
     "output_type": "stream",
     "text": [
      "Reject the null hypothesis: There is a significant difference in conversion rates between the 'ad' and 'psa' groups.\n"
     ]
    }
   ],
   "source": [
    "if p_val < 0.05:\n",
    "    print(\"Reject the null hypothesis: There is a significant difference in conversion rates between the 'ad' and 'psa' groups.\")\n",
    "else:\n",
    "    print(\"Fail to reject the null hypothesis: There is no significant difference in conversion rates between the 'ad' and 'psa' groups.\")"
   ]
  },
  {
   "cell_type": "code",
   "execution_count": 32,
   "id": "66422ed0-d45f-4ad2-8881-6a12d6ed3aa1",
   "metadata": {},
   "outputs": [
    {
     "name": "stdout",
     "output_type": "stream",
     "text": [
      "Most Ads Day Analysis: F-statistic: 68.38818386898062, P-value: 1.8032007655359555e-85\n"
     ]
    }
   ],
   "source": [
    "anova_result_day = stats.f_oneway(\n",
    "    df[df['most ads day'] == 'Monday']['converted'],\n",
    "    df[df['most ads day'] == 'Tuesday']['converted'],\n",
    "    df[df['most ads day'] == 'Wednesday']['converted'],\n",
    "    df[df['most ads day'] == 'Thursday']['converted'],\n",
    "    df[df['most ads day'] == 'Friday']['converted'],\n",
    "    df[df['most ads day'] == 'Saturday']['converted'],\n",
    "    df[df['most ads day'] == 'Sunday']['converted']\n",
    ")\n",
    "print(f\"Most Ads Day Analysis: F-statistic: {anova_result_day.statistic}, P-value: {anova_result_day.pvalue}\")"
   ]
  },
  {
   "cell_type": "code",
   "execution_count": 33,
   "id": "f626a4c8-2dbe-4fc6-9844-de7ee4e45b9d",
   "metadata": {},
   "outputs": [
    {
     "name": "stdout",
     "output_type": "stream",
     "text": [
      "Reject the null hypothesis: The day with the most ads seen significantly affects the conversion rate.\n"
     ]
    }
   ],
   "source": [
    "if anova_result_day.pvalue < 0.05:\n",
    "    print(\"Reject the null hypothesis: The day with the most ads seen significantly affects the conversion rate.\")\n",
    "else:\n",
    "    print(\"Fail to reject the null hypothesis: The day with the most ads seen does not significantly affect conversion rates.\")"
   ]
  },
  {
   "cell_type": "code",
   "execution_count": 34,
   "id": "5c2371f5-7558-43be-9b05-e59763da9300",
   "metadata": {},
   "outputs": [
    {
     "name": "stdout",
     "output_type": "stream",
     "text": [
      "Most Ads Hour Analysis: F-statistic: 18.742037312974496, P-value: 7.482025334833055e-77\n"
     ]
    }
   ],
   "source": [
    "anova_result_hour = stats.f_oneway(\n",
    "    df[df['most ads hour'] == 0]['converted'],\n",
    "    df[df['most ads hour'] == 1]['converted'],\n",
    "    df[df['most ads hour'] == 2]['converted'],\n",
    "    df[df['most ads hour'] == 3]['converted'],\n",
    "    df[df['most ads hour'] == 4]['converted'],\n",
    "    df[df['most ads hour'] == 5]['converted'],\n",
    "    df[df['most ads hour'] == 6]['converted'],\n",
    "    df[df['most ads hour'] == 7]['converted'],\n",
    "    df[df['most ads hour'] == 8]['converted'],\n",
    "    df[df['most ads hour'] == 9]['converted'],\n",
    "    df[df['most ads hour'] == 10]['converted'],\n",
    "    df[df['most ads hour'] == 11]['converted'],\n",
    "    df[df['most ads hour'] == 12]['converted'],\n",
    "    df[df['most ads hour'] == 13]['converted'],\n",
    "    df[df['most ads hour'] == 14]['converted'],\n",
    "    df[df['most ads hour'] == 15]['converted'],\n",
    "    df[df['most ads hour'] == 16]['converted'],\n",
    "    df[df['most ads hour'] == 17]['converted'],\n",
    "    df[df['most ads hour'] == 18]['converted'],\n",
    "    df[df['most ads hour'] == 19]['converted'],\n",
    "    df[df['most ads hour'] == 20]['converted'],\n",
    "    df[df['most ads hour'] == 21]['converted'],\n",
    "    df[df['most ads hour'] == 22]['converted'],\n",
    "    df[df['most ads hour'] == 23]['converted']\n",
    ")\n",
    "print(f\"Most Ads Hour Analysis: F-statistic: {anova_result_hour.statistic}, P-value: {anova_result_hour.pvalue}\")"
   ]
  },
  {
   "cell_type": "code",
   "execution_count": 35,
   "id": "c2111f68-9dc0-4bcb-98c2-edd1c62cb4c2",
   "metadata": {},
   "outputs": [
    {
     "name": "stdout",
     "output_type": "stream",
     "text": [
      "Reject the null hypothesis: The hour with the most ads seen significantly affects the conversion rate.\n"
     ]
    }
   ],
   "source": [
    "if anova_result_hour.pvalue < 0.05:\n",
    "    print(\"Reject the null hypothesis: The hour with the most ads seen significantly affects the conversion rate.\")\n",
    "else:\n",
    "    print(\"Fail to reject the null hypothesis: The hour with the most ads seen does not significantly affect conversion rates.\")"
   ]
  },
  {
   "cell_type": "code",
   "execution_count": 36,
   "id": "e23c0b85-38c5-47dc-85cc-ba1147c6cc72",
   "metadata": {},
   "outputs": [
    {
     "name": "stdout",
     "output_type": "stream",
     "text": [
      "Total Ads (Binned) Analysis: F-statistic: 1245.6689124986833, P-value: 0.0\n"
     ]
    }
   ],
   "source": [
    "df_subset = df[df['total ads'] < 50].copy()\n",
    "\n",
    "df_subset.loc[:, 'total_ads_bin'] = pd.cut(df_subset['total ads'], bins=[-1, 1, 5, 10, 20, 30, 40, 50], labels=['0-1', '2-5', '6-10', '11-20', '21-30', '31-40', '41-50'])\n",
    "\n",
    "anova_result_bin = stats.f_oneway(\n",
    "    df_subset[df_subset['total_ads_bin'] == '0-1']['converted'],\n",
    "    df_subset[df_subset['total_ads_bin'] == '2-5']['converted'],\n",
    "    df_subset[df_subset['total_ads_bin'] == '6-10']['converted'],\n",
    "    df_subset[df_subset['total_ads_bin'] == '11-20']['converted'],\n",
    "    df_subset[df_subset['total_ads_bin'] == '21-30']['converted'],\n",
    "    df_subset[df_subset['total_ads_bin'] == '31-40']['converted'],\n",
    "    df_subset[df_subset['total_ads_bin'] == '41-50']['converted']\n",
    ")\n",
    "\n",
    "print(f\"Total Ads (Binned) Analysis: F-statistic: {anova_result_bin.statistic}, P-value: {anova_result_bin.pvalue}\")"
   ]
  },
  {
   "cell_type": "code",
   "execution_count": 37,
   "id": "ba06d3ad-2527-4937-9f55-b825e8bbf062",
   "metadata": {},
   "outputs": [
    {
     "name": "stdout",
     "output_type": "stream",
     "text": [
      "Reject the null hypothesis: There is a significant difference in conversion rates among different levels of total ads seen (binned).\n"
     ]
    }
   ],
   "source": [
    "if anova_result_bin.pvalue < 0.05:\n",
    "    print(\"Reject the null hypothesis: There is a significant difference in conversion rates among different levels of total ads seen (binned).\")\n",
    "else:\n",
    "    print(\"Fail to reject the null hypothesis: The number of ads seen (binned) does not significantly affect conversion rates.\")"
   ]
  },
  {
   "cell_type": "markdown",
   "id": "3e0e143a-89c2-4631-94ef-120a49c95396",
   "metadata": {},
   "source": [
    "# Visualization"
   ]
  },
  {
   "cell_type": "code",
   "execution_count": 39,
   "id": "fdbf3df6-5a16-467e-9179-33507c5b53de",
   "metadata": {},
   "outputs": [
    {
     "data": {
      "image/png": "[encoded data removed]",
      "text/plain": [
       "<Figure size 800x500 with 1 Axes>"
      ]
     },
     "metadata": {},
     "output_type": "display_data"
    }
   ],
   "source": [
    "conversion_rates = df.groupby('test group')['converted'].mean().reset_index()\n",
    "conversion_rates.columns = ['Test Group', 'Conversion Rate']\n",
    "conversion_rates['Test Group'] = conversion_rates['Test Group'].replace({'ad': 'ad (Control)', 'psa': 'psa (Test)'})\n",
    "\n",
    "plt.figure(figsize=(8, 5))\n",
    "sns.barplot(x='Test Group', y='Conversion Rate', data=conversion_rates)\n",
    "plt.title('Conversion Rates for Control and Test Groups')\n",
    "plt.xlabel('Test Group')\n",
    "plt.ylabel('Conversion Rate')\n",
    "plt.show()"
   ]
  },
  {
   "cell_type": "code",
   "execution_count": 40,
   "id": "0ae8ef8a-0f21-442f-bc53-974a7d3f218c",
   "metadata": {},
   "outputs": [
    {
     "data": {
      "image/png": "[encoded data removed]",
      "text/plain": [
       "<Figure size 1000x500 with 1 Axes>"
      ]
     },
     "metadata": {},
     "output_type": "display_data"
    }
   ],
   "source": [
    "day_conversion_rate = df.groupby('most ads day')['converted'].mean().reset_index()\n",
    "plt.figure(figsize=(10, 5))\n",
    "sns.barplot(data=day_conversion_rate, x='most ads day', y='converted')\n",
    "plt.title('Conversion Rate by Day with Most Ads Seen')\n",
    "plt.xlabel('Day of the Week')\n",
    "plt.ylabel('Conversion Rate')\n",
    "plt.show()"
   ]
  },
  {
   "cell_type": "code",
   "execution_count": 41,
   "id": "25fd3674-9fe8-42f9-8398-0096f60aad89",
   "metadata": {},
   "outputs": [
    {
     "data": {
      "image/png": "[encoded data removed]",
      "text/plain": [
       "<Figure size 1000x500 with 1 Axes>"
      ]
     },
     "metadata": {},
     "output_type": "display_data"
    }
   ],
   "source": [
    "hour_conversion_rate = df.groupby('most ads hour')['converted'].mean().reset_index()\n",
    "plt.figure(figsize=(10, 5))\n",
    "sns.barplot(data=hour_conversion_rate, x='most ads hour', y='converted')\n",
    "plt.title('Conversion Rate by Hour with Most Ads Seen')\n",
    "plt.xlabel('Hour of the Day')\n",
    "plt.ylabel('Conversion Rate')\n",
    "plt.show()"
   ]
  },
  {
   "cell_type": "code",
   "execution_count": 42,
   "id": "02d7d7ba-5bcf-45e6-bed6-b3fc30b5b14b",
   "metadata": {},
   "outputs": [
    {
     "data": {
      "image/png": "[encoded data removed]",
      "text/plain": [
       "<Figure size 1000x500 with 1 Axes>"
      ]
     },
     "metadata": {},
     "output_type": "display_data"
    }
   ],
   "source": [
    "ads_conversion_rate_bin = df_subset.groupby('total_ads_bin')['converted'].mean().reset_index()\n",
    "plt.figure(figsize=(10, 5))\n",
    "sns.barplot(data=ads_conversion_rate_bin, x='total_ads_bin', y='converted')\n",
    "plt.title('Conversion Rate by Total Ads Seen (Binned) - Total Ads < 50')\n",
    "plt.xlabel('Total Ads Seen (Binned)')\n",
    "plt.ylabel('Conversion Rate')\n",
    "plt.show()"
   ]
  },
  {
   "cell_type": "code",
   "execution_count": null,
   "id": "c4db0a71-abfd-4c11-b292-8597035bbce2",
   "metadata": {},
   "outputs": [],
   "source": []
  }
 ],
 "metadata": {
  "kernelspec": {
   "display_name": "Python 3 (ipykernel)",
   "language": "python",
   "name": "python3"
  },
  "language_info": {
   "codemirror_mode": {
    "name": "ipython",
    "version": 3
   },
   "file_extension": ".py",
   "mimetype": "text/x-python",
   "name": "python",
   "nbconvert_exporter": "python",
   "pygments_lexer": "ipython3",
   "version": "3.9.6"
  }
 },
 "nbformat": 4,
 "nbformat_minor": 5
}
